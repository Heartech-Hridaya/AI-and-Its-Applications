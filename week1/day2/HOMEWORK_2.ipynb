{
  "nbformat": 4,
  "nbformat_minor": 0,
  "metadata": {
    "colab": {
      "provenance": []
    },
    "kernelspec": {
      "name": "python3",
      "display_name": "Python 3"
    },
    "language_info": {
      "name": "python"
    }
  },
  "cells": [
    {
      "cell_type": "markdown",
      "source": [
        "##**HOMEWORK 2**"
      ],
      "metadata": {
        "id": "C0RgHQSdJChj"
      }
    },
    {
      "cell_type": "markdown",
      "source": [
        "1. import math and calculate sine of 30 degrees using math.sin(math.radians(30))."
      ],
      "metadata": {
        "id": "Rq8ueH6nJJus"
      }
    },
    {
      "cell_type": "code",
      "execution_count": null,
      "metadata": {
        "colab": {
          "base_uri": "https://localhost:8080/"
        },
        "id": "OCeyIWa_JBFV",
        "outputId": "45e0043f-0b35-46ca-ca69-a4ce34459150"
      },
      "outputs": [
        {
          "output_type": "stream",
          "name": "stdout",
          "text": [
            "Sine of 30 degrees using m.sin(m.radians(30) is : 0.500\n"
          ]
        }
      ],
      "source": [
        "import math as m\n",
        "sine_of_30 = m.sin(m.radians(30))\n",
        "print(f\"Sine of 30 degrees using m.sin(m.radians(30) is : {sine_of_30:.3f}\")"
      ]
    },
    {
      "cell_type": "markdown",
      "source": [
        "2. import random as rng and generate a ramdom integer between 50-75."
      ],
      "metadata": {
        "id": "OX5iDDxTJX5N"
      }
    },
    {
      "cell_type": "code",
      "source": [
        "import random as ran\n",
        "r = ran.randint(50,70)\n",
        "print(f\"A ramdom integer between 50-75 is : {r}\")"
      ],
      "metadata": {
        "colab": {
          "base_uri": "https://localhost:8080/"
        },
        "id": "FpTlb2xFJPUm",
        "outputId": "1bb36613-c3e9-46da-af9d-cb912edb2aaa"
      },
      "execution_count": null,
      "outputs": [
        {
          "output_type": "stream",
          "name": "stdout",
          "text": [
            "A ramdom integer between 50-75 is : 59\n"
          ]
        }
      ]
    },
    {
      "cell_type": "markdown",
      "source": [
        "3. Create cal.py with square function, import and print square of 8."
      ],
      "metadata": {
        "id": "ZfaPboLpJ5kV"
      }
    },
    {
      "cell_type": "code",
      "source": [
        "%%writefile cal.py\n",
        "import math as m\n",
        "def square(x):\n",
        "  return  m.pow(x, 2)"
      ],
      "metadata": {
        "colab": {
          "base_uri": "https://localhost:8080/"
        },
        "id": "FRPq25_TJwps",
        "outputId": "09a7035e-2271-4c85-dda7-cbb88f2ad869"
      },
      "execution_count": null,
      "outputs": [
        {
          "output_type": "stream",
          "name": "stdout",
          "text": [
            "Writing cal.py\n"
          ]
        }
      ]
    },
    {
      "cell_type": "code",
      "source": [
        "import cal\n",
        "print(f\"The square of 8 is : {int(cal.square(8))}\")"
      ],
      "metadata": {
        "colab": {
          "base_uri": "https://localhost:8080/"
        },
        "id": "Gby0X64HKipe",
        "outputId": "446cd0b1-0149-4be5-bdc4-53ccd761a50a"
      },
      "execution_count": null,
      "outputs": [
        {
          "output_type": "stream",
          "name": "stdout",
          "text": [
            "The square of 8 is : 64\n"
          ]
        }
      ]
    },
    {
      "cell_type": "markdown",
      "source": [
        "4. Import choice from random, pick from fruits list [\"Mango\",\"Apple\",\"grape\"]"
      ],
      "metadata": {
        "id": "vR0vv6LDLh4C"
      }
    },
    {
      "cell_type": "code",
      "source": [
        "import random as r\n",
        "fruits = [\"Mango\",\"Apple\",\"Grape\"]\n",
        "rc = r.choice(fruits)\n",
        "print(f\"A random fruit from the list id - {rc}\")"
      ],
      "metadata": {
        "colab": {
          "base_uri": "https://localhost:8080/"
        },
        "id": "Mw7bG6M3LNR-",
        "outputId": "32b99bbc-6bf4-41d7-c615-2d47a1890f52"
      },
      "execution_count": null,
      "outputs": [
        {
          "output_type": "stream",
          "name": "stdout",
          "text": [
            "A random fruit from the list id - Apple\n"
          ]
        }
      ]
    }
  ]
}