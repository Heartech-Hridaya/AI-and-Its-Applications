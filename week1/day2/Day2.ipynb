{
  "nbformat": 4,
  "nbformat_minor": 0,
  "metadata": {
    "colab": {
      "provenance": []
    },
    "kernelspec": {
      "name": "python3",
      "display_name": "Python 3"
    },
    "language_info": {
      "name": "python"
    }
  },
  "cells": [
    {
      "cell_type": "markdown",
      "source": [
        " ##**Section 1**"
      ],
      "metadata": {
        "id": "VMeEpa1zwVPP"
      }
    },
    {
      "cell_type": "code",
      "execution_count": null,
      "metadata": {
        "colab": {
          "base_uri": "https://localhost:8080/"
        },
        "id": "LRhVv_ohvOpe",
        "outputId": "a90d6191-878d-47f8-d58c-62bef4b28ef7"
      },
      "outputs": [
        {
          "output_type": "stream",
          "name": "stdout",
          "text": [
            "Enter a radius for a circle50\n",
            "The area of the given circle is 9125.0\n"
          ]
        }
      ],
      "source": [
        "r=int(input(\"Enter a radius for a circle\"))\n",
        "def areaofcircle(r):\n",
        "  pi = 3.65\n",
        "  area = pi *r*r\n",
        "  return area\n",
        "\n",
        "print(f\"The area of the given circle is {areaofcircle(r)}\")\n",
        "\n",
        "\n"
      ]
    },
    {
      "cell_type": "markdown",
      "source": [
        "##**Section 2**"
      ],
      "metadata": {
        "id": "2bgvccFEy-gy"
      }
    },
    {
      "cell_type": "code",
      "source": [
        "# Creating a List of fruits\n",
        "\n",
        "fruits = [\"apple\",\"banana\",\"kiwi\",\"orange\",\"strawberry\",]\n",
        "# print(fruits[0:-1])\n",
        "\n",
        "#Adding or removing\n",
        "fruits.append(\"mango\")\n",
        "fruits.remove(fruits[0])\n",
        "print(fruits[0:])\n"
      ],
      "metadata": {
        "colab": {
          "base_uri": "https://localhost:8080/"
        },
        "id": "VsJlrpeov5S_",
        "outputId": "7e072f31-c1bc-4a13-d341-be42843aff79"
      },
      "execution_count": null,
      "outputs": [
        {
          "output_type": "stream",
          "name": "stdout",
          "text": [
            "['banana', 'kiwi', 'orange', 'strawberry', 'mango']\n"
          ]
        }
      ]
    },
    {
      "cell_type": "markdown",
      "source": [
        "##**Section 3**"
      ],
      "metadata": {
        "id": "bhVAnJKc7--m"
      }
    },
    {
      "cell_type": "code",
      "source": [
        "#creating a Dictionary\n",
        "student = {\n",
        "    \"name\":\"Hridaya\",\n",
        "    \"age\":30,\n",
        "    \"Course\":\"AI\",\n",
        "}\n",
        "#Accesing value of particular key in dictionary\n",
        "print(student[\"age\"])\n",
        "\n",
        "#Updating value of particular key in dictionary\n",
        "student[\"age\"]=18\n",
        "print(student[\"age\"])\n",
        "\n",
        "#Adding new key-value pair in dictionary\n",
        "\n",
        "student[\"address\"]=\"Maitidevi\"\n",
        "print(student[\"address\"])\n",
        "\n",
        "print(student)\n",
        "\n",
        "#Removing a key-value pair from a dictionary\n",
        "\n",
        "del student[\"Course\"]\n",
        "print(student)\n"
      ],
      "metadata": {
        "colab": {
          "base_uri": "https://localhost:8080/"
        },
        "id": "TqUue88h73l7",
        "outputId": "a70a0af3-ea2d-423f-91e2-f53ee31fa6ba"
      },
      "execution_count": null,
      "outputs": [
        {
          "output_type": "stream",
          "name": "stdout",
          "text": [
            "30\n",
            "18\n",
            "Maitidevi\n",
            "{'name': 'Hridaya', 'age': 18, 'Course': 'AI', 'address': 'Maitidevi'}\n",
            "{'name': 'Hridaya', 'age': 18, 'address': 'Maitidevi'}\n"
          ]
        }
      ]
    },
    {
      "cell_type": "markdown",
      "source": [
        "##**Weather Converter**"
      ],
      "metadata": {
        "id": "bw4oMSNM-Q1g"
      }
    },
    {
      "cell_type": "code",
      "source": [
        "\n",
        "d = input(\"Enter a degree. Press <C> to input in Celsius or press <F> to input in Fahrenheit: \")\n",
        "\n",
        "d = d.lower()   # Convert to lowercase for easier comparison\n",
        "\n",
        "if d == \"c\":\n",
        "    degree = float(input(\"Enter the degree in Celsius: \"))\n",
        "    f = degree * 9 / 5 + 32\n",
        "    print(f\"Entered {degree}°C is {f:.2f}°F.\")\n",
        "\n",
        "elif d == \"f\":\n",
        "    degree = int(input(\"Enter the degree in Fahrenheit: \"))\n",
        "    c = (degree - 32) * 5 / 9\n",
        "    print(f\"Entered {degree}°F is {c:.2f}°C.\")\n",
        "\n",
        "else:\n",
        "    print(\"Invalid input. Please enter 'C' or 'F'.\")\n",
        "\n"
      ],
      "metadata": {
        "colab": {
          "base_uri": "https://localhost:8080/"
        },
        "id": "_nZGRpOe8UY-",
        "outputId": "a7d4b481-6bdf-461e-83ad-8015f07241d1"
      },
      "execution_count": null,
      "outputs": [
        {
          "output_type": "stream",
          "name": "stdout",
          "text": [
            "Enter a degree. Press <C> to input in Celsius or press <F> to input in Fahrenheit: c\n",
            "Enter the degree in Celsius: 56\n",
            "Entered 56.0°C is 132.80°F.\n"
          ]
        }
      ]
    },
    {
      "cell_type": "markdown",
      "source": [
        "##**STRING MANUPLITAION**"
      ],
      "metadata": {
        "id": "FIKa2ljqIqWg"
      }
    },
    {
      "cell_type": "code",
      "source": [
        "#Creatinfg a variable named text leading and trailing spaces\n",
        "text = \"    I am Hero    \"\n",
        "print(text)\n",
        "print(text.lower())\n",
        "print(text.upper())\n",
        "print(text.strip()) # removes leading and trailing spaces\n",
        "print(text.replace(\"Hero\",\"Outstanding\"))\n",
        "\n",
        "# Splitting and joining\n",
        "\n",
        "splitted = text.strip().split() # This is called function chaining or method chaining\n",
        "print(splitted)\n",
        "\n",
        "#joining\n",
        "joined = \"-\".join(splitted) #Hyphenn\n",
        "print(joined)"
      ],
      "metadata": {
        "id": "79w_HAxuBIMl",
        "colab": {
          "base_uri": "https://localhost:8080/"
        },
        "outputId": "e012054f-56ae-42e0-ee35-a331fb66d60d"
      },
      "execution_count": null,
      "outputs": [
        {
          "output_type": "stream",
          "name": "stdout",
          "text": [
            "    I am Hero    \n",
            "    i am hero    \n",
            "    I AM HERO    \n",
            "I am Hero\n",
            "    I am Outstanding    \n",
            "['I', 'am', 'Hero']\n",
            "I-am-Hero\n"
          ]
        }
      ]
    },
    {
      "cell_type": "markdown",
      "source": [
        "##**MODULAR PROGRAMMING**"
      ],
      "metadata": {
        "id": "ed4JFjySLAji"
      }
    },
    {
      "cell_type": "code",
      "source": [
        "import math as m\n",
        "square_root = m.sqrt(25)\n",
        "print(int(square_root))\n",
        "\n",
        "#Floring and celling\n",
        "\n",
        "floor = m.floor(3.75)\n",
        "print(f\"The flooring of 3.75 is : {floor:.3f} \")\n",
        "\n",
        "celling = m.ceil(3.75)\n",
        "print(f\"The celling of 3.75 is : {celling:.3f} \")"
      ],
      "metadata": {
        "colab": {
          "base_uri": "https://localhost:8080/"
        },
        "id": "2CwT3jklJKJJ",
        "outputId": "e3e01498-3264-41d4-e557-3cf2c46241f7"
      },
      "execution_count": null,
      "outputs": [
        {
          "output_type": "stream",
          "name": "stdout",
          "text": [
            "5\n",
            "The flooring of 3.75 is : 3.000 \n",
            "The celling of 3.75 is : 4.000 \n"
          ]
        }
      ]
    },
    {
      "cell_type": "markdown",
      "source": [
        "##**MODULE ALAISING**"
      ],
      "metadata": {
        "id": "7SDMs1OJMnoY"
      }
    },
    {
      "cell_type": "code",
      "source": [
        "from re import A\n",
        "import math as m\n",
        "\n",
        "a=[1,2,3,4]\n",
        "b = a\n",
        "b.append(5)\n",
        "print(a)\n",
        "print(b)"
      ],
      "metadata": {
        "colab": {
          "base_uri": "https://localhost:8080/"
        },
        "id": "kR5ZWaocLiLr",
        "outputId": "0c1a8919-525f-498a-d653-69876e13bf16"
      },
      "execution_count": null,
      "outputs": [
        {
          "output_type": "stream",
          "name": "stdout",
          "text": [
            "[1, 2, 3, 4, 5]\n",
            "[1, 2, 3, 4, 5]\n"
          ]
        }
      ]
    },
    {
      "cell_type": "markdown",
      "source": [
        "##**FUNCTION ALIASING**"
      ],
      "metadata": {
        "id": "qFt_9-o2Nqa4"
      }
    },
    {
      "cell_type": "code",
      "source": [
        "def greet():\n",
        "    print(\"Hello!\")\n",
        "\n",
        "# Create an alias\n",
        "hello = greet\n",
        "\n",
        "# Now you can use the alias to call the function\n",
        "hello()  # Output: Hello!\n"
      ],
      "metadata": {
        "colab": {
          "base_uri": "https://localhost:8080/"
        },
        "id": "NJ8-jSXQNlLW",
        "outputId": "f2e381b8-74b8-4ea4-d4e2-27bccc404052"
      },
      "execution_count": null,
      "outputs": [
        {
          "output_type": "stream",
          "name": "stdout",
          "text": [
            "Hello!\n"
          ]
        }
      ]
    },
    {
      "cell_type": "markdown",
      "source": [
        "##**RANDOMS IN PYTHON**"
      ],
      "metadata": {
        "id": "aBopUKB0OG0O"
      }
    },
    {
      "cell_type": "code",
      "source": [
        "import random as r\n",
        "\n",
        "names = [10, 20, 30, 40]\n",
        "r.shuffle(names)\n",
        "\n",
        "print(names)\n"
      ],
      "metadata": {
        "colab": {
          "base_uri": "https://localhost:8080/"
        },
        "id": "YrpSpAr1OElI",
        "outputId": "83a37f93-6ca3-42a1-f432-753922a91cd6"
      },
      "execution_count": null,
      "outputs": [
        {
          "output_type": "stream",
          "name": "stdout",
          "text": [
            "[30, 40, 20, 10]\n"
          ]
        }
      ]
    },
    {
      "cell_type": "code",
      "source": [
        "random_float = r.random()\n",
        "print(random_float)\n"
      ],
      "metadata": {
        "colab": {
          "base_uri": "https://localhost:8080/"
        },
        "id": "u4wqJDeQOqKB",
        "outputId": "56259ece-5490-4f48-ae3b-7f81e1b38e77"
      },
      "execution_count": null,
      "outputs": [
        {
          "output_type": "stream",
          "name": "stdout",
          "text": [
            "0.3950232857288434\n"
          ]
        }
      ]
    },
    {
      "cell_type": "code",
      "source": [
        "random_float_in_range = r.uniform(10.5,30.5)\n",
        "print(random_float_in_range)\n",
        "#HOMEWORK  :  Explore more modules and function/modules"
      ],
      "metadata": {
        "colab": {
          "base_uri": "https://localhost:8080/"
        },
        "id": "dg2N06h5PHIf",
        "outputId": "350e8734-cf49-4abe-b565-7ce8ee5a1865"
      },
      "execution_count": null,
      "outputs": [
        {
          "output_type": "stream",
          "name": "stdout",
          "text": [
            "27.23217662491346\n"
          ]
        }
      ]
    },
    {
      "cell_type": "markdown",
      "source": [
        "##**CREATING CUSTOM MODELS IN PYTHON**"
      ],
      "metadata": {
        "id": "ZblaEj_2P9eH"
      }
    },
    {
      "cell_type": "code",
      "source": [
        "%%writefile helper.py\n",
        "def add_num(a,b):\n",
        "  return a+b"
      ],
      "metadata": {
        "colab": {
          "base_uri": "https://localhost:8080/"
        },
        "id": "lR4Cso05PgGr",
        "outputId": "eb14450c-17b3-44a7-85a2-bb8173c5169b"
      },
      "execution_count": null,
      "outputs": [
        {
          "output_type": "stream",
          "name": "stdout",
          "text": [
            "Writing helper.py\n"
          ]
        }
      ]
    },
    {
      "cell_type": "code",
      "source": [
        "import helper as a\n",
        "result = a.add_num(3,9)\n",
        "print(f\"The added number is - {result}\")"
      ],
      "metadata": {
        "colab": {
          "base_uri": "https://localhost:8080/"
        },
        "id": "_5r4RKkxQUzB",
        "outputId": "ee62b1f0-b66e-44ac-a79d-0af6e889eddd"
      },
      "execution_count": null,
      "outputs": [
        {
          "output_type": "stream",
          "name": "stdout",
          "text": [
            "The added number is - 12\n"
          ]
        }
      ]
    },
    {
      "cell_type": "markdown",
      "source": [
        "##**CLASSWORK**"
      ],
      "metadata": {
        "id": "q0s2xkCQR8jH"
      }
    },
    {
      "cell_type": "code",
      "source": [
        "#Add a subtract function to helper.py and use it to subtract 5 from 10.\n",
        "#Add another divisor function to helper.py and use it to divide between 2 numbers of your choice.\n"
      ],
      "metadata": {
        "id": "WVtH42-aQjkR"
      },
      "execution_count": null,
      "outputs": []
    },
    {
      "cell_type": "code",
      "source": [
        "%%writefile math.py\n",
        "def sub(a,b):\n",
        "  return a-b\n",
        "\n",
        "def deivisor(a,b):\n",
        "  return a/b"
      ],
      "metadata": {
        "colab": {
          "base_uri": "https://localhost:8080/"
        },
        "id": "Mn8tsjBJSVGL",
        "outputId": "0db9f9a5-040c-42b5-baa0-d5006d0c846e"
      },
      "execution_count": null,
      "outputs": [
        {
          "output_type": "stream",
          "name": "stdout",
          "text": [
            "Overwriting math.py\n"
          ]
        }
      ]
    },
    {
      "cell_type": "code",
      "source": [
        "import math\n",
        "import importlib\n",
        "importlib.reload(math)\n",
        "s = math.sub(10, 5)\n",
        "print(f\"The subtraction of 10 - 5 = {s}\")\n",
        "\n",
        "a = int(input(\"Enter a number to be divided: \"))\n",
        "b = int(input(\"Enter a number to divide by: \"))\n",
        "\n",
        "print(f\"The division of {a} by {b} = {math.divisor(a, b)}\")\n"
      ],
      "metadata": {
        "colab": {
          "base_uri": "https://localhost:8080/",
          "height": 219
        },
        "id": "sCVwlMvqSikn",
        "outputId": "fccff1e0-bfed-4f8c-b22a-7af849bb0b37"
      },
      "execution_count": null,
      "outputs": [
        {
          "output_type": "error",
          "ename": "AttributeError",
          "evalue": "module 'math' has no attribute 'sub'",
          "traceback": [
            "\u001b[0;31m---------------------------------------------------------------------------\u001b[0m",
            "\u001b[0;31mAttributeError\u001b[0m                            Traceback (most recent call last)",
            "\u001b[0;32m<ipython-input-53-43a3a51c13a5>\u001b[0m in \u001b[0;36m<cell line: 0>\u001b[0;34m()\u001b[0m\n\u001b[1;32m      2\u001b[0m \u001b[0;32mimport\u001b[0m \u001b[0mimportlib\u001b[0m\u001b[0;34m\u001b[0m\u001b[0;34m\u001b[0m\u001b[0m\n\u001b[1;32m      3\u001b[0m \u001b[0mimportlib\u001b[0m\u001b[0;34m.\u001b[0m\u001b[0mreload\u001b[0m\u001b[0;34m(\u001b[0m\u001b[0mmath\u001b[0m\u001b[0;34m)\u001b[0m\u001b[0;34m\u001b[0m\u001b[0;34m\u001b[0m\u001b[0m\n\u001b[0;32m----> 4\u001b[0;31m \u001b[0ms\u001b[0m \u001b[0;34m=\u001b[0m \u001b[0mmath\u001b[0m\u001b[0;34m.\u001b[0m\u001b[0msub\u001b[0m\u001b[0;34m(\u001b[0m\u001b[0;36m10\u001b[0m\u001b[0;34m,\u001b[0m \u001b[0;36m5\u001b[0m\u001b[0;34m)\u001b[0m\u001b[0;34m\u001b[0m\u001b[0;34m\u001b[0m\u001b[0m\n\u001b[0m\u001b[1;32m      5\u001b[0m \u001b[0mprint\u001b[0m\u001b[0;34m(\u001b[0m\u001b[0;34mf\"The subtraction of 10 - 5 = {s}\"\u001b[0m\u001b[0;34m)\u001b[0m\u001b[0;34m\u001b[0m\u001b[0;34m\u001b[0m\u001b[0m\n\u001b[1;32m      6\u001b[0m \u001b[0;34m\u001b[0m\u001b[0m\n",
            "\u001b[0;31mAttributeError\u001b[0m: module 'math' has no attribute 'sub'"
          ]
        }
      ]
    },
    {
      "cell_type": "code",
      "source": [],
      "metadata": {
        "id": "XG-gfrazTml8"
      },
      "execution_count": null,
      "outputs": []
    }
  ]
}