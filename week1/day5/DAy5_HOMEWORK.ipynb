{
  "nbformat": 4,
  "nbformat_minor": 0,
  "metadata": {
    "colab": {
      "provenance": []
    },
    "kernelspec": {
      "name": "python3",
      "display_name": "Python 3"
    },
    "language_info": {
      "name": "python"
    }
  },
  "cells": [
    {
      "cell_type": "markdown",
      "source": [
        "**HOMEWORK**"
      ],
      "metadata": {
        "id": "1Y93g2Xk69BX"
      }
    },
    {
      "cell_type": "markdown",
      "source": [
        "### 1. Create a 2D NumPy array of shape (3, 3) with random integers between 1 and 10 (inclusive) using np.random.randint. Then, replace all values greater than 5 with O and print the modified array. 2. Create two 1D NumPy arrays: [2, 4, 6, 8] and [1, 3, 5, 7]. Compute the element-wise sum and the dot product of the two arrays. Print both results."
      ],
      "metadata": {
        "id": "db1DvxFM6-cn"
      }
    },
    {
      "cell_type": "code",
      "execution_count": 3,
      "metadata": {
        "colab": {
          "base_uri": "https://localhost:8080/"
        },
        "id": "oV-EDVL16Pu-",
        "outputId": "ba66d8e5-dbd3-4e4a-86ef-a17b8eaf42d1"
      },
      "outputs": [
        {
          "output_type": "stream",
          "name": "stdout",
          "text": [
            "Question 1:\n",
            "Original array:\n",
            "[[ 8  3  9]\n",
            " [ 2  2  8]\n",
            " [ 8 10  7]]\n",
            "Modified array (values > 5 replaced with 0):\n",
            "[[0 3 0]\n",
            " [2 2 0]\n",
            " [0 0 0]]\n",
            "\n",
            "Question 2:\n",
            "Array a: [2 4 6 8]\n",
            "Array b: [1 3 5 7]\n",
            "Element-wise sum: [ 3  7 11 15]\n",
            "Dot product: 100\n"
          ]
        }
      ],
      "source": [
        "import numpy as np\n",
        "\n",
        "# Question 1\n",
        "print(\"Question 1:\")\n",
        "# Create a 2D NumPy array of shape (3, 3) with random integers between 1 and 10\n",
        "arr_2d = np.random.randint(1, 11, size=(3, 3))\n",
        "print(\"Original array:\")\n",
        "print(arr_2d)\n",
        "\n",
        "# Replace all values greater than 5 with 0\n",
        "arr_2d[arr_2d > 5] = 0\n",
        "print(\"Modified array (values > 5 replaced with 0):\")\n",
        "print(arr_2d)\n",
        "\n",
        "# Question 2\n",
        "print(\"\\nQuestion 2:\")\n",
        "# Create two 1D NumPy arrays\n",
        "arr_a = np.array([2, 4, 6, 8])\n",
        "arr_b = np.array([1, 3, 5, 7])\n",
        "\n",
        "print(\"Array a:\", arr_a)\n",
        "print(\"Array b:\", arr_b)\n",
        "\n",
        "# Compute the element-wise sum\n",
        "element_wise_sum = arr_a + arr_b\n",
        "print(\"Element-wise sum:\", element_wise_sum)\n",
        "\n",
        "# Compute the dot product\n",
        "dot_product = np.dot(arr_a, arr_b)\n",
        "print(\"Dot product:\", dot_product)"
      ]
    },
    {
      "cell_type": "markdown",
      "source": [
        "### 2. Create two 1D NumPy arrays: [2, 4, 6, 8] and [1, 3, 5, 7]. Compute the element-wise sum and the dot product of the two arrays. Print both results."
      ],
      "metadata": {
        "id": "ZdjlpRoO7Zcs"
      }
    },
    {
      "cell_type": "code",
      "source": [
        "# Create two 1D NumPy arrays\n",
        "arr_a = np.array([2, 4, 6, 8])\n",
        "arr_b = np.array([1, 3, 5, 7])\n",
        "\n",
        "print(\"Array a:\", arr_a)\n",
        "print(\"Array b:\", arr_b)\n",
        "\n",
        "# Compute the element-wise sum\n",
        "element_wise_sum = arr_a + arr_b\n",
        "print(\"Element-wise sum:\", element_wise_sum)\n",
        "\n",
        "# Compute the dot product\n",
        "dot_product = np.dot(arr_a, arr_b)\n",
        "print(\"Dot product:\", dot_product)"
      ],
      "metadata": {
        "colab": {
          "base_uri": "https://localhost:8080/"
        },
        "id": "sF5QeeaX86j8",
        "outputId": "8dae5dd0-99ed-4b88-9205-ae0273ec92ba"
      },
      "execution_count": 4,
      "outputs": [
        {
          "output_type": "stream",
          "name": "stdout",
          "text": [
            "Array a: [2 4 6 8]\n",
            "Array b: [1 3 5 7]\n",
            "Element-wise sum: [ 3  7 11 15]\n",
            "Dot product: 100\n"
          ]
        }
      ]
    },
    {
      "cell_type": "markdown",
      "source": [
        "###3. Create a 2D NumPy array of shape (4, 3) filled with ones using np.ones. Then, add a 1D array [10, 20, 30] to each row of the 2D array using broadcasting. Print the resulting array."
      ],
      "metadata": {
        "id": "eCI5JpL887uL"
      }
    },
    {
      "cell_type": "code",
      "source": [
        "# Create a 2D NumPy array of shape (4, 3) filled with ones\n",
        "array_2d = np.ones((4, 3))\n",
        "print(\"Original 2D array:\")\n",
        "print(array_2d)\n",
        "\n",
        "# Create a 1D array\n",
        "array_1d = np.array([10, 20, 30])\n",
        "print(\"\\n1D array to add:\")\n",
        "print(array_1d)\n",
        "\n",
        "# Add the 1D array to each row of the 2D array using broadcasting\n",
        "# NumPy's broadcasting rules allow this operation as the 1D array's shape (3,)\n",
        "# is compatible with the last dimension of the 2D array (also 3).\n",
        "result_array = array_2d + array_1d\n",
        "print(\"\\nResulting array after adding 1D array to each row:\")\n",
        "print(result_array)"
      ],
      "metadata": {
        "colab": {
          "base_uri": "https://localhost:8080/"
        },
        "id": "p8K9j-GI8-p7",
        "outputId": "23643ed8-1de1-4fea-a85f-3ebc639695e1"
      },
      "execution_count": 5,
      "outputs": [
        {
          "output_type": "stream",
          "name": "stdout",
          "text": [
            "Original 2D array:\n",
            "[[1. 1. 1.]\n",
            " [1. 1. 1.]\n",
            " [1. 1. 1.]\n",
            " [1. 1. 1.]]\n",
            "\n",
            "1D array to add:\n",
            "[10 20 30]\n",
            "\n",
            "Resulting array after adding 1D array to each row:\n",
            "[[11. 21. 31.]\n",
            " [11. 21. 31.]\n",
            " [11. 21. 31.]\n",
            " [11. 21. 31.]]\n"
          ]
        }
      ]
    },
    {
      "cell_type": "markdown",
      "source": [
        "### 4. Create a 2D NumPy array [[1, 2, 3], [4, 5, 6], [7, 8, 9]]. Extract the second column and compute its mean using np.mean. Then, reshape the original array into a 1D array and print both results.\n",
        ".con"
      ],
      "metadata": {
        "id": "nhM7LYSy9E3k"
      }
    },
    {
      "cell_type": "code",
      "source": [
        "# Create the 2D NumPy array\n",
        "original_array = np.array([[1, 2, 3],\n",
        "                           [4, 5, 6],\n",
        "                           [7, 8, 9]])\n",
        "print(\"Original 2D array:\")\n",
        "print(original_array)\n",
        "\n",
        "# Extract the second column (index 1)\n",
        "second_column = original_array[:, 1]\n",
        "print(\"\\nSecond column extracted:\")\n",
        "print(second_column)\n",
        "\n",
        "# Compute the mean of the second column\n",
        "mean_of_second_column = np.mean(second_column)\n",
        "print(\"Mean of the second column:\", mean_of_second_column)\n",
        "\n",
        "# Reshape the original array into a 1D array\n",
        "# Using .reshape(-1) flattens the array into a 1D array\n",
        "reshaped_array_1d = original_array.reshape(-1)\n",
        "print(\"\\nOriginal array reshaped into a 1D array:\")\n",
        "print(reshaped_array_1d)"
      ],
      "metadata": {
        "colab": {
          "base_uri": "https://localhost:8080/"
        },
        "id": "vhghUE_79J-F",
        "outputId": "c49a1783-c8aa-4243-e314-89f9852ab879"
      },
      "execution_count": 6,
      "outputs": [
        {
          "output_type": "stream",
          "name": "stdout",
          "text": [
            "Original 2D array:\n",
            "[[1 2 3]\n",
            " [4 5 6]\n",
            " [7 8 9]]\n",
            "\n",
            "Second column extracted:\n",
            "[2 5 8]\n",
            "Mean of the second column: 5.0\n",
            "\n",
            "Original array reshaped into a 1D array:\n",
            "[1 2 3 4 5 6 7 8 9]\n"
          ]
        }
      ]
    },
    {
      "cell_type": "markdown",
      "source": [
        "### 5. Create a 1D NumPy array [10, 20, 30, 40, 50, 60]. Use a boolean mask to select elements greater than 30, then square those elements. Print the original array and the modified array.\n"
      ],
      "metadata": {
        "id": "G17SdVjm8_LE"
      }
    },
    {
      "cell_type": "code",
      "source": [
        "# Create the 1D NumPy array\n",
        "original_array = np.array([10, 20, 30, 40, 50, 60])\n",
        "print(\"Original array:\")\n",
        "print(original_array)\n",
        "\n",
        "# Create a boolean mask for elements greater than 30\n",
        "boolean_mask = original_array > 30\n",
        "print(\"\\nBoolean mask (elements > 30):\")\n",
        "print(boolean_mask)\n",
        "\n",
        "# Select elements greater than 30 and square them\n",
        "# We create a copy to avoid modifying the 'original_array' in place if we want to print both.\n",
        "# If modifying original_array was fine, we could just do original_array[boolean_mask] = original_array[boolean_mask] ** 2\n",
        "modified_array = np.copy(original_array)\n",
        "modified_array[boolean_mask] = modified_array[boolean_mask] ** 2\n",
        "\n",
        "print(\"\\nModified array (elements > 30 squared):\")\n",
        "print(modified_array)"
      ],
      "metadata": {
        "colab": {
          "base_uri": "https://localhost:8080/"
        },
        "id": "Mh8vNrSX9OGk",
        "outputId": "3f748550-dd78-4956-9c50-e02e85803d7e"
      },
      "execution_count": 7,
      "outputs": [
        {
          "output_type": "stream",
          "name": "stdout",
          "text": [
            "Original array:\n",
            "[10 20 30 40 50 60]\n",
            "\n",
            "Boolean mask (elements > 30):\n",
            "[False False False  True  True  True]\n",
            "\n",
            "Modified array (elements > 30 squared):\n",
            "[  10   20   30 1600 2500 3600]\n"
          ]
        }
      ]
    },
    {
      "cell_type": "code",
      "source": [],
      "metadata": {
        "id": "9CGmZdnm9_Y-"
      },
      "execution_count": null,
      "outputs": []
    }
  ]
}