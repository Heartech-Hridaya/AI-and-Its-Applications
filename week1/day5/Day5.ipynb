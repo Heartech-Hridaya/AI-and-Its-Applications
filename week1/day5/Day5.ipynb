{
  "nbformat": 4,
  "nbformat_minor": 0,
  "metadata": {
    "colab": {
      "provenance": []
    },
    "kernelspec": {
      "name": "python3",
      "display_name": "Python 3"
    },
    "language_info": {
      "name": "python"
    }
  },
  "cells": [
    {
      "cell_type": "markdown",
      "source": [
        "##**CREATING A NUMPY ARRAY AND ITS ATTRIBUTES**"
      ],
      "metadata": {
        "id": "4vVSxxC4DzeO"
      }
    },
    {
      "cell_type": "code",
      "execution_count": null,
      "metadata": {
        "colab": {
          "base_uri": "https://localhost:8080/"
        },
        "id": "yBMphjIIDiSW",
        "outputId": "7e52f862-f0de-40be-d428-e0544ff3a2a5"
      },
      "outputs": [
        {
          "output_type": "stream",
          "name": "stdout",
          "text": [
            "[1 2 3 4 5]\n",
            "42\n",
            "[[1 2 3]\n",
            " [4 5 6]]\n",
            "[[[ 1  2  3]\n",
            "  [ 4  5  6]]\n",
            "\n",
            " [[ 7  8  9]\n",
            "  [10 11 12]]]\n"
          ]
        }
      ],
      "source": [
        "#importing numpy library\n",
        "import numpy as np\n",
        "my_list = [1,2,3,4,5]  #Creating a list named \"my_list\"\n",
        "my_array = np.array(my_list) #Creating a 1-D numpy array from \"my_list\"\n",
        "print(my_array)\n",
        "\n",
        "arr_0d = np.array(42) #Creating a 0-D numpy array\n",
        "print(arr_0d)\n",
        "\n",
        "arr_2d = np.array([[1,2,3],[4,5,6]]) #Creating a 2-D numpy array\n",
        "print(arr_2d)\n",
        "\n",
        "arr_3d = np.array([[[1,2,3],[4,5,6]], [[7,8,9],[10,11,12]]]) #Creating a 3-D numpy array\n",
        "print(arr_3d)\n"
      ]
    },
    {
      "cell_type": "code",
      "source": [
        "#Creating array and its attributes\n",
        "\n",
        "arr = np.array([[1,2,3,4],[6,7,8,9]])\n",
        "\n",
        "print(arr) #Printing the array\n",
        "print(arr.ndim) #Printing the dimension of the array\n",
        "print(arr.shape) #Printing the shape of the array\n",
        "print(arr.size) #Printing the size of the array\n",
        "print(arr.dtype) #Printing the data type of the array"
      ],
      "metadata": {
        "colab": {
          "base_uri": "https://localhost:8080/"
        },
        "id": "jVlGKisiEBq8",
        "outputId": "640b38b5-a82f-4eb2-c4ee-424f6bf33ad4"
      },
      "execution_count": null,
      "outputs": [
        {
          "output_type": "stream",
          "name": "stdout",
          "text": [
            "[[1 2 3 4]\n",
            " [6 7 8 9]]\n",
            "2\n",
            "(2, 4)\n",
            "8\n",
            "int64\n"
          ]
        }
      ]
    },
    {
      "cell_type": "markdown",
      "source": [
        "ACCESING AND MANUPLITING ARRAY ELEMENTS"
      ],
      "metadata": {
        "id": "MA00dynJGfQR"
      }
    },
    {
      "cell_type": "code",
      "source": [],
      "metadata": {
        "id": "3DcJM7SFGUZ9"
      },
      "execution_count": null,
      "outputs": []
    },
    {
      "cell_type": "markdown",
      "source": [
        "NEGATIVE INDEXING\n"
      ],
      "metadata": {
        "id": "-1K2gQYyIVP2"
      }
    },
    {
      "cell_type": "code",
      "source": [
        "#Accesing 2-D  array elements with negative indexing\n",
        "\n",
        "my_arr = np.array([[2,5,7,9],[1,3,5,7]])\n",
        "print(my_arr[1,-2])"
      ],
      "metadata": {
        "colab": {
          "base_uri": "https://localhost:8080/"
        },
        "id": "KCHV9rmcIX2V",
        "outputId": "bc23b867-4ab5-45ab-d49a-a639ab7e7404"
      },
      "execution_count": null,
      "outputs": [
        {
          "output_type": "stream",
          "name": "stdout",
          "text": [
            "5\n"
          ]
        }
      ]
    },
    {
      "cell_type": "markdown",
      "source": [
        "SLICING ARRAYS"
      ],
      "metadata": {
        "id": "ncTFhZZZItIa"
      }
    },
    {
      "cell_type": "markdown",
      "source": [
        "####IMPORTANT CONCEPT WHILE SLICING\n",
        "#####      array [start:end]\n",
        "#####      array [start:end:step]"
      ],
      "metadata": {
        "id": "PfvCaxEaJHCR"
      }
    },
    {
      "cell_type": "code",
      "source": [
        "arr = np.array([1,3,5,7,9,11,13,15,17,19,21])\n",
        "print(arr[1:5])\n",
        "print(arr[4:])\n",
        "print(arr[:4])\n",
        "print(arr[-3:-1])\n",
        "print(arr[1:5:2])\n"
      ],
      "metadata": {
        "colab": {
          "base_uri": "https://localhost:8080/"
        },
        "id": "XmwQV1pHIu-S",
        "outputId": "1d3410cc-146c-4968-9f37-431991b32433"
      },
      "execution_count": null,
      "outputs": [
        {
          "output_type": "stream",
          "name": "stdout",
          "text": [
            "[3 5 7 9]\n",
            "[ 9 11 13 15 17 19 21]\n",
            "[1 3 5 7]\n",
            "[17 19]\n",
            "[3 7]\n"
          ]
        }
      ]
    },
    {
      "cell_type": "code",
      "source": [
        "#Slicing a 2-D numpy Array\n",
        "arr = np.array([[1,3,5,7],[2,4,6,8]])\n",
        "print(arr[1,1:-1])\n",
        "print(arr[0:2,2])\n",
        "print(arr[0:2,1:4])\n"
      ],
      "metadata": {
        "colab": {
          "base_uri": "https://localhost:8080/"
        },
        "id": "ar8aQc1tJtHW",
        "outputId": "4bb91388-2142-4bfa-c177-c12f85dbfdfc"
      },
      "execution_count": null,
      "outputs": [
        {
          "output_type": "stream",
          "name": "stdout",
          "text": [
            "[4 6]\n",
            "[5 6]\n",
            "[[3 5 7]\n",
            " [4 6 8]]\n"
          ]
        }
      ]
    },
    {
      "cell_type": "markdown",
      "source": [
        "**CLASSWORK**"
      ],
      "metadata": {
        "id": "gy6W-ju_K4XF"
      }
    },
    {
      "cell_type": "markdown",
      "source": [
        "1. Create a NumPy array from the list [7, 14, 21, 28]. Print the array."
      ],
      "metadata": {
        "id": "FH9Edqm_K8uB"
      }
    },
    {
      "cell_type": "code",
      "source": [
        "import numpy as np\n",
        "list = [7,14,21,28]\n",
        "arr = np.array(list)\n",
        "print (arr)"
      ],
      "metadata": {
        "colab": {
          "base_uri": "https://localhost:8080/"
        },
        "id": "B0MO7eLJKGYl",
        "outputId": "7f7023a1-98bd-43f4-a5aa-584543037039"
      },
      "execution_count": null,
      "outputs": [
        {
          "output_type": "stream",
          "name": "stdout",
          "text": [
            "[ 7 14 21 28]\n"
          ]
        }
      ]
    },
    {
      "cell_type": "markdown",
      "source": [
        "2. Create a 2D NumPy array [[5, 10, 15], [20, 25, 30]]. Print its shape and num- ber of dimensions using array. ndim."
      ],
      "metadata": {
        "id": "E7txQBfuLaH7"
      }
    },
    {
      "cell_type": "code",
      "source": [
        "arr_2D = np.array([[5,10,15],[20,25,30]])\n",
        "print(f\"The arrays dimension is : {arr_2D.ndim}\"  )\n",
        "print(f\"The arrays shape is : {arr_2D.shape}\"  )\n",
        "print(f\"The arrays size is : {arr_2D.size}\"  )\n"
      ],
      "metadata": {
        "colab": {
          "base_uri": "https://localhost:8080/"
        },
        "id": "7y91-bzMLT7z",
        "outputId": "ded3ac04-4545-4a39-a8b9-fb2f1917d10b"
      },
      "execution_count": null,
      "outputs": [
        {
          "output_type": "stream",
          "name": "stdout",
          "text": [
            "The arrays dimension is : 2\n",
            "The arrays shape is : (2, 3)\n",
            "The arrays size is : 6\n"
          ]
        }
      ]
    },
    {
      "cell_type": "markdown",
      "source": [
        "3. Use np. zeros to create a 2D array of shape (2, 3). Then, use np.arange to create an array from 0 to 12 with a step of 3. Print both arrays."
      ],
      "metadata": {
        "id": "WQu_AJIHMubZ"
      }
    },
    {
      "cell_type": "code",
      "source": [
        "# 1. Create a 2D array of shape (2, 3) filled with zeros\n",
        "zeros_array = np.zeros((2, 3))\n",
        "\n",
        "# 2. Create a 1D array from 0 to 12 with a step of 3\n",
        "arange_array = np.arange(0, 13, 3)\n",
        "\n",
        "# 3. Print both arrays\n",
        "print(\"2D Zeros Array (2x3):\")\n",
        "print(zeros_array)\n",
        "\n",
        "print(\"\\n1D Arange Array from 0 to 12 (step 3):\")\n",
        "print(arange_array)"
      ],
      "metadata": {
        "colab": {
          "base_uri": "https://localhost:8080/"
        },
        "id": "YRPnRe89L6k9",
        "outputId": "8eb93ccc-dcae-401a-f394-8cd8b65b42cf"
      },
      "execution_count": null,
      "outputs": [
        {
          "output_type": "stream",
          "name": "stdout",
          "text": [
            "2D Zeros Array (2x3):\n",
            "[[0. 0. 0.]\n",
            " [0. 0. 0.]]\n",
            "\n",
            "1D Arange Array from 0 to 12 (step 3):\n",
            "[ 0  3  6  9 12]\n"
          ]
        }
      ]
    },
    {
      "cell_type": "markdown",
      "source": [
        "4. Create a NumPy array [2, 4, 6, 8]. Multiply all elements by 3 and print the result."
      ],
      "metadata": {
        "id": "T1O5XyutNh7R"
      }
    },
    {
      "cell_type": "code",
      "source": [
        "# Create the array\n",
        "arr = np.array([2, 4, 6, 8])\n",
        "\n",
        "# Multiply all elements by 3\n",
        "result = arr * 3\n",
        "\n",
        "# Print the result\n",
        "print(\"Original Array:\")\n",
        "print(arr)\n",
        "\n",
        "print(\"\\nAfter Multiplying by 3:\")\n",
        "print(result)"
      ],
      "metadata": {
        "colab": {
          "base_uri": "https://localhost:8080/"
        },
        "id": "iZzpaTYrNNX4",
        "outputId": "1d5b4548-9dfa-4d9b-a2ee-3aefa50e7804"
      },
      "execution_count": null,
      "outputs": [
        {
          "output_type": "stream",
          "name": "stdout",
          "text": [
            "Original Array:\n",
            "[2 4 6 8]\n",
            "\n",
            "After Multiplying by 3:\n",
            "[ 6 12 18 24]\n"
          ]
        }
      ]
    },
    {
      "cell_type": "markdown",
      "source": [
        "5. Create a NumPy array [1, 3, 5, 7, 9, 11]. Print the third element and a slice from index 1 to 3 (inclusive)."
      ],
      "metadata": {
        "id": "uJjwZwYpNw1F"
      }
    },
    {
      "cell_type": "code",
      "source": [
        "arr = [1,3,5,7,9,11]\n",
        "print(arr[2])\n",
        "print(arr[1:4])\n"
      ],
      "metadata": {
        "colab": {
          "base_uri": "https://localhost:8080/"
        },
        "id": "NqyA33e2NuWg",
        "outputId": "9165542a-a270-4574-85ec-5e344fbaeffb"
      },
      "execution_count": null,
      "outputs": [
        {
          "output_type": "stream",
          "name": "stdout",
          "text": [
            "5\n",
            "[3, 5, 7]\n"
          ]
        }
      ]
    },
    {
      "cell_type": "code",
      "source": [],
      "metadata": {
        "id": "iyNjkAzOOB3c"
      },
      "execution_count": null,
      "outputs": []
    }
  ]
}