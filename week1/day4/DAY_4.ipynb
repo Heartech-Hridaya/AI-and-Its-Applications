{
  "nbformat": 4,
  "nbformat_minor": 0,
  "metadata": {
    "colab": {
      "provenance": []
    },
    "kernelspec": {
      "name": "python3",
      "display_name": "Python 3"
    },
    "language_info": {
      "name": "python"
    }
  },
  "cells": [
    {
      "cell_type": "markdown",
      "source": [
        "##**FILE HANDELING AND ERROR HANDELING**"
      ],
      "metadata": {
        "id": "EUEnbe-fAsvZ"
      }
    },
    {
      "cell_type": "markdown",
      "source": [
        "OPENING AND READING FILE"
      ],
      "metadata": {
        "id": "1YMw2jATA3oW"
      }
    },
    {
      "cell_type": "code",
      "execution_count": null,
      "metadata": {
        "colab": {
          "base_uri": "https://localhost:8080/"
        },
        "id": "LbbeGo2XAnIT",
        "outputId": "565fa192-d164-49df-9d3b-ed4907cdce98"
      },
      "outputs": [
        {
          "output_type": "stream",
          "name": "stdout",
          "text": [
            "Hii My name is Hridaya.\n",
            "Im 18 yrs old.\n",
            "I want to excell in AI.\n",
            "Yo yo guyz.\n"
          ]
        }
      ],
      "source": [
        "f = open(\"text.txt\",\"r\")\n",
        "print(f.read(200))\n",
        "f.close()"
      ]
    },
    {
      "cell_type": "code",
      "source": [
        "f = open(\"text.txt\",\"r\")\n",
        "print(f.readline(30))\n",
        "f.close()"
      ],
      "metadata": {
        "colab": {
          "base_uri": "https://localhost:8080/"
        },
        "id": "mjxmx2TvBiRF",
        "outputId": "f28ab21a-4757-4f6b-94c4-987b68a0f14e"
      },
      "execution_count": null,
      "outputs": [
        {
          "output_type": "stream",
          "name": "stdout",
          "text": [
            "Hii My name is Hridaya.\n",
            "\n"
          ]
        }
      ]
    },
    {
      "cell_type": "code",
      "source": [
        "f = open(\"text.txt\",\"r\")\n",
        "print(f.readlines(150))\n",
        "f.close()"
      ],
      "metadata": {
        "colab": {
          "base_uri": "https://localhost:8080/"
        },
        "id": "kT22ToUnCKic",
        "outputId": "2897e41c-6da4-4cbb-e809-0f61b53bfe75"
      },
      "execution_count": null,
      "outputs": [
        {
          "output_type": "stream",
          "name": "stdout",
          "text": [
            "['Hii My name is Hridaya.\\n', 'Im 18 yrs old.\\n', 'I want to excell in AI.\\n', 'Yo yo guyz.']\n"
          ]
        }
      ]
    },
    {
      "cell_type": "markdown",
      "source": [],
      "metadata": {
        "id": "vOdBYRlCC7Td"
      }
    },
    {
      "cell_type": "markdown",
      "source": [
        "WITH OPERATION"
      ],
      "metadata": {
        "id": "3ADw_oMjDBHF"
      }
    },
    {
      "cell_type": "code",
      "source": [
        "with open(\"sample.txt\",\"w\") as f:\n",
        "  f.write(\"Hi, there\")\n"
      ],
      "metadata": {
        "id": "r0SFSGzRDECS"
      },
      "execution_count": null,
      "outputs": []
    },
    {
      "cell_type": "markdown",
      "source": [
        "APPENDING A FILE"
      ],
      "metadata": {
        "id": "HK0oTZXYE_Ww"
      }
    },
    {
      "cell_type": "code",
      "source": [
        "with open(\"sample.txt\",\"a\") as f :\n",
        "  f.write(\"\\n Its meee Hridaya\")"
      ],
      "metadata": {
        "id": "TFSwGcoiDgCt"
      },
      "execution_count": null,
      "outputs": []
    },
    {
      "cell_type": "markdown",
      "source": [
        "##**CLASSWORK**"
      ],
      "metadata": {
        "id": "Nn8PARGaFp73"
      }
    },
    {
      "cell_type": "markdown",
      "source": [
        "1. Write a Python Program to read the contents of a text file named data.taxt and print each line to the console. Handle the case where the file does not exist using a try-except block.\n"
      ],
      "metadata": {
        "id": "Hm0u9JYi8iCR"
      }
    },
    {
      "cell_type": "code",
      "source": [
        "try:\n",
        "  with open(\"data.txt\",\"r\") as s:\n",
        "    print(s.readlines())\n",
        "except FileNotFoundError:\n",
        "    print(\"File does not exist\")\n"
      ],
      "metadata": {
        "colab": {
          "base_uri": "https://localhost:8080/"
        },
        "id": "0aqH1UPiFLqp",
        "outputId": "3f00ea9b-76ae-40c1-c7bc-f5fb312431f3"
      },
      "execution_count": null,
      "outputs": [
        {
          "output_type": "stream",
          "name": "stdout",
          "text": [
            "['Hello there\\n', 'its hridaya\\n', 'hahahaa\\n']\n"
          ]
        }
      ]
    },
    {
      "cell_type": "markdown",
      "source": [
        "2. Create a Python program that prompts the user to enter their name and saves it to a file called user.txt. Include exception handling to manage potential errors during file writing."
      ],
      "metadata": {
        "id": "XL4xcxdH8lgd"
      }
    },
    {
      "cell_type": "code",
      "source": [
        "try:\n",
        "  with open(\"user.txt\",\"w\") as f:\n",
        "    d = \"y\"\n",
        "    while (d == \"y\"):\n",
        "      print(\"Press y to continue\")\n",
        "      a = input(\"Enter your name - \")\n",
        "\n",
        "\n",
        "except FileNotFoundError:\n",
        "    print(\"File does not exist\")\n",
        "\n",
        "\n"
      ],
      "metadata": {
        "colab": {
          "base_uri": "https://localhost:8080/"
        },
        "id": "04LCbXUFP4rq",
        "outputId": "cef2b231-4af4-4ad8-d838-72cc4882b445"
      },
      "execution_count": null,
      "outputs": [
        {
          "metadata": {
            "tags": null
          },
          "name": "stdout",
          "output_type": "stream",
          "text": [
            "Press y to continue\n",
            "Press y to continue\n"
          ]
        }
      ]
    },
    {
      "cell_type": "markdown",
      "source": [
        "3. Write a Python program to read a file named story.txt and count the number of words in it. Handle the case where the file is mising. Assume words are separated by spaces."
      ],
      "metadata": {
        "id": "7qvrXzMx8ojg"
      }
    },
    {
      "cell_type": "code",
      "source": [
        "\n",
        "try:\n",
        "  with open(\"story.txt\",\"r\") as f:\n",
        "    content = f.read()\n",
        "    words = content.split()\n",
        "    print(f\"The file contains {len(words)} words.\")\n",
        "except FileNotFoundError:\n",
        "  print(\"The file does not exist.\")"
      ],
      "metadata": {
        "id": "B6y5v8XVRvWQ"
      },
      "execution_count": null,
      "outputs": []
    },
    {
      "cell_type": "markdown",
      "source": [
        "4. Write a Python program that asks the user for a line of text and appends it to an existing file named notes.txt. If the file doesn't exist, create it. Use exception handling to manage errors."
      ],
      "metadata": {
        "id": "TKBfUpgC8sC-"
      }
    },
    {
      "cell_type": "code",
      "source": [
        "\n",
        "try:\n",
        "  with open(\"notes.txt\",\"a\") as f:\n",
        "    line = input(\"Enter a line of text: \")\n",
        "    f.write(line + \"\\n\")\n",
        "except Exception as e:\n",
        "  print(e)"
      ],
      "metadata": {
        "id": "dtUFWpJ2SFg5"
      },
      "execution_count": null,
      "outputs": []
    },
    {
      "cell_type": "markdown",
      "source": [
        "5. Create a python program that reads a file named numbers.txt containing one number per line. Calculate the sum of these numbers and print it. Handle cases where the file is missing or contains non-numeric data."
      ],
      "metadata": {
        "id": "FHLTIHID8xeR"
      }
    },
    {
      "cell_type": "code",
      "source": [
        "try:\n",
        "  with open(\"numbers.txt\",\"r\") as f:\n",
        "    sum = 0\n",
        "    for x in f:\n",
        "      sum += int(x)\n",
        "    print(f\"The sum of the numbers in the file is {sum}.\")\n",
        "except FileNotFoundError:\n",
        "  print(\"The file does not exist.\")\n",
        "except ValueError:\n",
        "  print(\"The file contains non-numeric data.\")"
      ],
      "metadata": {
        "id": "1nevkcEQSF8m"
      },
      "execution_count": null,
      "outputs": []
    },
    {
      "cell_type": "markdown",
      "source": [
        "BASIC EXEPTION HANDELING"
      ],
      "metadata": {
        "id": "YPiNDW-SSHmN"
      }
    },
    {
      "cell_type": "code",
      "source": [
        "print(b)"
      ],
      "metadata": {
        "id": "nD-ESuIjSa87",
        "colab": {
          "base_uri": "https://localhost:8080/",
          "height": 146
        },
        "outputId": "22120853-88b1-4c11-e697-b61885a705ec"
      },
      "execution_count": null,
      "outputs": [
        {
          "output_type": "error",
          "ename": "NameError",
          "evalue": "name 'b' is not defined",
          "traceback": [
            "\u001b[0;31m---------------------------------------------------------------------------\u001b[0m",
            "\u001b[0;31mNameError\u001b[0m                                 Traceback (most recent call last)",
            "\u001b[0;32m<ipython-input-42-67e500defa1b>\u001b[0m in \u001b[0;36m<cell line: 0>\u001b[0;34m()\u001b[0m\n\u001b[0;32m----> 1\u001b[0;31m \u001b[0mprint\u001b[0m\u001b[0;34m(\u001b[0m\u001b[0mb\u001b[0m\u001b[0;34m)\u001b[0m\u001b[0;34m\u001b[0m\u001b[0;34m\u001b[0m\u001b[0m\n\u001b[0m",
            "\u001b[0;31mNameError\u001b[0m: name 'b' is not defined"
          ]
        }
      ]
    },
    {
      "cell_type": "code",
      "source": [
        "try:\n",
        "  print(b)\n",
        "except:\n",
        "  print(\"An exception occured\")"
      ],
      "metadata": {
        "id": "eFH03ecYSL4J",
        "colab": {
          "base_uri": "https://localhost:8080/"
        },
        "outputId": "671078b9-474d-464f-af9f-66019c1a41bd"
      },
      "execution_count": null,
      "outputs": [
        {
          "output_type": "stream",
          "name": "stdout",
          "text": [
            "An exception occured\n"
          ]
        }
      ]
    },
    {
      "cell_type": "code",
      "source": [],
      "metadata": {
        "id": "nZc4Z7QWSei7"
      },
      "execution_count": null,
      "outputs": []
    }
  ]
}