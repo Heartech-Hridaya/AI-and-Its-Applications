{
  "nbformat": 4,
  "nbformat_minor": 0,
  "metadata": {
    "colab": {
      "provenance": []
    },
    "kernelspec": {
      "name": "python3",
      "display_name": "Python 3"
    },
    "language_info": {
      "name": "python"
    }
  },
  "cells": [
    {
      "cell_type": "markdown",
      "source": [
        "#####**Day2_Homework**"
      ],
      "metadata": {
        "id": "Rdx2h1nWbRw3"
      }
    },
    {
      "cell_type": "markdown",
      "source": [
        "1. Age Calculator"
      ],
      "metadata": {
        "id": "WF5U14z3bcaZ"
      }
    },
    {
      "cell_type": "code",
      "execution_count": null,
      "metadata": {
        "colab": {
          "base_uri": "https://localhost:8080/"
        },
        "id": "w3WmMQgDbPOa",
        "outputId": "00ab4193-d81e-4d1e-b01f-26fb047945d4"
      },
      "outputs": [
        {
          "output_type": "stream",
          "name": "stdout",
          "text": [
            "Enter your date of birth - 2007\n",
            "Your age is 18yrs old\n"
          ]
        }
      ],
      "source": [
        "import datetime  #It is used to include Python's built-in datetime module, which allows us to work with dates and times.\n",
        "by = int(input(\"Enter your date of birth - \"))\n",
        "cy = datetime.datetime.now().year\n",
        "age = cy-by\n",
        "print(f\"Your age is {age}yrs old\")"
      ]
    },
    {
      "cell_type": "markdown",
      "source": [
        "2. Simple Interest Calculator"
      ],
      "metadata": {
        "id": "Yb2K87KwdCBn"
      }
    },
    {
      "cell_type": "code",
      "source": [
        "principal = float(input(\"Enter principal amount - \"))\n",
        "rate = float(input(\"Enter rate of interest - \"))\n",
        "time = float(input(\"Enter time taken in years - \"))\n",
        "\n",
        "SI = (principal*rate*time)/100\n",
        "print(f\"Your Simple interest is Rs.{SI:.2f}\")"
      ],
      "metadata": {
        "colab": {
          "base_uri": "https://localhost:8080/"
        },
        "id": "5o87nXz9cNkw",
        "outputId": "9c0457c5-9b13-420d-895c-c9c42b33bc14"
      },
      "execution_count": null,
      "outputs": [
        {
          "output_type": "stream",
          "name": "stdout",
          "text": [
            "Enter principal amount - 52000\n",
            "Enter rate of interest - 50\n",
            "Enter time taken in years - 5\n",
            "Your Simple interest is Rs.130000.00\n"
          ]
        }
      ]
    },
    {
      "cell_type": "markdown",
      "source": [
        "3. BMI Calculator"
      ],
      "metadata": {
        "id": "U9JVQUJKeBs3"
      }
    },
    {
      "cell_type": "code",
      "source": [
        "wt = float(input(\"Enter your weight (in kg) - \"))\n",
        "h = float(input(\"Enter your height (in meters) - \"))\n",
        "\n",
        "BMI = wt/(h**2)\n",
        "\n",
        "if BMI < 18.5:\n",
        "    category = \"Underweight\"\n",
        "elif 18.5 <= BMI < 24.9:\n",
        "    category = \"Normal weight\"\n",
        "elif 25 <= BMI < 29.9:\n",
        "    category = \"Overweight\"\n",
        "else:\n",
        "    category = \"Obese\"\n",
        "\n",
        "print(f\"Your Body Mass Index is :{BMI:.2f}\")\n",
        "print(f\"Your weight catagoey is :{category}\")"
      ],
      "metadata": {
        "colab": {
          "base_uri": "https://localhost:8080/"
        },
        "id": "Qj65rwPpdo-2",
        "outputId": "a8750e42-8ace-4b7f-99de-2bdc71214930"
      },
      "execution_count": null,
      "outputs": [
        {
          "output_type": "stream",
          "name": "stdout",
          "text": [
            "Enter your weight (in kg) - 65\n",
            "Enter your height (in meters) - 2\n",
            "Your Body Mass Index is :16.25\n",
            "Your weight catagoey is :Underweight\n"
          ]
        }
      ]
    },
    {
      "cell_type": "markdown",
      "source": [
        "4. Currency Converter"
      ],
      "metadata": {
        "id": "wnBwggEafaUn"
      }
    },
    {
      "cell_type": "code",
      "source": [
        "rs = float(input(\"Enter an amount in NRP: Rs-\"))\n",
        "usd = rs/132\n",
        "print(f\"Your entered amount in USD id :{usd:.2f}$\")"
      ],
      "metadata": {
        "colab": {
          "base_uri": "https://localhost:8080/"
        },
        "id": "gRqZyCbFfMwq",
        "outputId": "d28e224c-3e48-4852-ae53-789322f801a5"
      },
      "execution_count": null,
      "outputs": [
        {
          "output_type": "stream",
          "name": "stdout",
          "text": [
            "Enter an amount in NRP: Rs-50000\n",
            "Your entered amount in USD id :378.79$\n"
          ]
        }
      ]
    }
  ]
}